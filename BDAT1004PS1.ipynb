{
 "cells": [
  {
   "cell_type": "code",
   "execution_count": null,
   "id": "14378fca",
   "metadata": {},
   "outputs": [],
   "source": [
    "#Question 6 Python\n"
   ]
  },
  {
   "cell_type": "code",
   "execution_count": 8,
   "id": "3be18dd6",
   "metadata": {},
   "outputs": [],
   "source": [
    " vowels = [\"a\", \"e\", \"i\", \"o\", \"u\", \"A\", \"E\", \"I\", \"O\", \"U\"]"
   ]
  },
  {
   "cell_type": "code",
   "execution_count": 36,
   "id": "fe07a2d6",
   "metadata": {},
   "outputs": [],
   "source": [
    "def pig(string):\n",
    "        for x in vowels:\n",
    "            res = \"Pig-Latin Form: \"+ string + \"way\"\n",
    "        else:\n",
    "            res = \"Pig Latin Form: \" + string[len(string) - 1] + string[1:len(string) - 1] + string[0] + \"ay\"\n",
    "            return res"
   ]
  },
  {
   "cell_type": "code",
   "execution_count": 22,
   "id": "c09810df",
   "metadata": {},
   "outputs": [
    {
     "data": {
      "text/plain": [
       "'Pig Latin Form: rnteay'"
      ]
     },
     "execution_count": 22,
     "metadata": {},
     "output_type": "execute_result"
    }
   ],
   "source": [
    "pig(\"Enter\")"
   ]
  },
  {
   "cell_type": "code",
   "execution_count": 37,
   "id": "0a979c80",
   "metadata": {},
   "outputs": [
    {
     "data": {
      "text/plain": [
       "'Pig Latin Form: yapphay'"
      ]
     },
     "execution_count": 37,
     "metadata": {},
     "output_type": "execute_result"
    }
   ],
   "source": [
    "pig(\"happy\")"
   ]
  },
  {
   "cell_type": "code",
   "execution_count": null,
   "id": "bb50b6d3",
   "metadata": {},
   "outputs": [],
   "source": [
    "#Question 9 Python"
   ]
  },
  {
   "cell_type": "code",
   "execution_count": 47,
   "id": "f6fa12df",
   "metadata": {},
   "outputs": [
    {
     "ename": "SyntaxError",
     "evalue": "invalid character '‘' (U+2018) (3868643136.py, line 1)",
     "output_type": "error",
     "traceback": [
      "\u001b[1;36m  Input \u001b[1;32mIn [47]\u001b[1;36m\u001b[0m\n\u001b[1;33m    addThem = 6 + ‘a’\u001b[0m\n\u001b[1;37m                  ^\u001b[0m\n\u001b[1;31mSyntaxError\u001b[0m\u001b[1;31m:\u001b[0m invalid character '‘' (U+2018)\n"
     ]
    }
   ],
   "source": [
    "addThem = 6 + ‘a’ #"
   ]
  },
  {
   "cell_type": "code",
   "execution_count": 52,
   "id": "ff59cc89",
   "metadata": {},
   "outputs": [
    {
     "ename": "TypeError",
     "evalue": "There are no type variables left in list[0, 1, 2, 3, 4, 5, 6, 7, 8, 9, 10]",
     "output_type": "error",
     "traceback": [
      "\u001b[1;31m---------------------------------------------------------------------------\u001b[0m",
      "\u001b[1;31mTypeError\u001b[0m                                 Traceback (most recent call last)",
      "Input \u001b[1;32mIn [52]\u001b[0m, in \u001b[0;36m<cell line: 2>\u001b[1;34m()\u001b[0m\n\u001b[0;32m      1\u001b[0m lst\u001b[38;5;241m=\u001b[39m \u001b[38;5;28mlist\u001b[39m[\u001b[38;5;241m0\u001b[39m, \u001b[38;5;241m1\u001b[39m, \u001b[38;5;241m2\u001b[39m, \u001b[38;5;241m3\u001b[39m, \u001b[38;5;241m4\u001b[39m, \u001b[38;5;241m5\u001b[39m, \u001b[38;5;241m6\u001b[39m, \u001b[38;5;241m7\u001b[39m, \u001b[38;5;241m8\u001b[39m, \u001b[38;5;241m9\u001b[39m, \u001b[38;5;241m10\u001b[39m]\n\u001b[1;32m----> 2\u001b[0m \u001b[38;5;28mprint\u001b[39m(\u001b[43mlst\u001b[49m\u001b[43m[\u001b[49m\u001b[38;5;241;43m12\u001b[39;49m\u001b[43m]\u001b[49m)\n",
      "\u001b[1;31mTypeError\u001b[0m: There are no type variables left in list[0, 1, 2, 3, 4, 5, 6, 7, 8, 9, 10]"
     ]
    }
   ],
   "source": [
    "lst= list[0, 1, 2, 3, 4, 5, 6, 7, 8, 9, 10]\n",
    "print(lst[12])  #OverflowError"
   ]
  },
  {
   "cell_type": "code",
   "execution_count": null,
   "id": "f5dbef19",
   "metadata": {},
   "outputs": [],
   "source": [
    "Trying to open a file that does not exist, such as\n",
    "mistyping the file name or looking in the wrong\n",
    "directory.  #ImportError"
   ]
  }
 ],
 "metadata": {
  "kernelspec": {
   "display_name": "Python 3 (ipykernel)",
   "language": "python",
   "name": "python3"
  },
  "language_info": {
   "codemirror_mode": {
    "name": "ipython",
    "version": 3
   },
   "file_extension": ".py",
   "mimetype": "text/x-python",
   "name": "python",
   "nbconvert_exporter": "python",
   "pygments_lexer": "ipython3",
   "version": "3.9.12"
  }
 },
 "nbformat": 4,
 "nbformat_minor": 5
}
